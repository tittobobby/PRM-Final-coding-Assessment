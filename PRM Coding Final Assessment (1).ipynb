{
 "cells": [
  {
   "cell_type": "code",
   "execution_count": 42,
   "id": "a0945c58",
   "metadata": {},
   "outputs": [
    {
     "name": "stdout",
     "output_type": "stream",
     "text": [
      "Enter the elements (space-separated) of the list : 1 2 3 4 5 6\n",
      "6 1 5 2 4 3\n"
     ]
    }
   ],
   "source": [
    "#You will be given a list. You have to print a list whose 1st element should be largest and 2nd should be the smallest then the 3rd should be 2nd largest and 4th should be 2nd smallest and so on.\n",
    "arr = [int(x) for x in input(\"Enter the elements (space-separated) of the list : \").split()]\n",
    "n = len(arr)\n",
    "max_index = n-1\n",
    "min_index = 0\n",
    "max_value = arr[max_index]+1\n",
    "for i in range(n):\n",
    "    if i%2==0:\n",
    "        arr[i] = arr[i] + (arr[max_index]%max_value)*max_value\n",
    "        max_index-=1\n",
    "    else:\n",
    "        arr[i] = arr[i] + (arr[min_index ]%max_value)*max_value\n",
    "        min_index+=1\n",
    "for i in range(n):\n",
    "    arr[i]=arr[i]//max_value\n",
    "print(' '.join(str(i) for i in arr))\n",
    "\n"
   ]
  },
  {
   "cell_type": "code",
   "execution_count": 35,
   "id": "070905a4",
   "metadata": {},
   "outputs": [
    {
     "name": "stdout",
     "output_type": "stream",
     "text": [
      "Enter the value of n to find the nth Fibonacci number : 4\n",
      "2\n"
     ]
    }
   ],
   "source": [
    "#Find nth fibonacci number. If it starts with 0,1,1,2.....\n",
    "\n",
    "#Also, Print Incorrect Input if n is less than or equal to 0.\n",
    "\n",
    "def fibonacci(n):\n",
    "    a = 0\n",
    "    b = 1\n",
    "    if n <= 0:\n",
    "        return (\"Incorrect Input\")\n",
    "    elif n == 1:\n",
    "        return b\n",
    "    else:\n",
    "        for i in range(2,n+1):\n",
    "            c = a + b\n",
    "            a = b\n",
    "            b = c\n",
    "        return a\n",
    "if __name__ == \"__main__\":\n",
    "    n = int(input(\"Enter the value of n to find the nth Fibonacci number : \"))\n",
    "    print(fibonacci(n))"
   ]
  },
  {
   "cell_type": "code",
   "execution_count": null,
   "id": "9f9ab3c1",
   "metadata": {},
   "outputs": [],
   "source": []
  }
 ],
 "metadata": {
  "kernelspec": {
   "display_name": "Python 3 (ipykernel)",
   "language": "python",
   "name": "python3"
  },
  "language_info": {
   "codemirror_mode": {
    "name": "ipython",
    "version": 3
   },
   "file_extension": ".py",
   "mimetype": "text/x-python",
   "name": "python",
   "nbconvert_exporter": "python",
   "pygments_lexer": "ipython3",
   "version": "3.11.0"
  }
 },
 "nbformat": 4,
 "nbformat_minor": 5
}
